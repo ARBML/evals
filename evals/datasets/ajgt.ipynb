{
 "cells": [
  {
   "cell_type": "code",
   "execution_count": 1,
   "metadata": {},
   "outputs": [
    {
     "name": "stdout",
     "output_type": "stream",
     "text": [
      "Looking in indexes: https://pypi.org/simple, https://pypi.ngc.nvidia.com\n",
      "Requirement already satisfied: openpyxl in /home/magedsaeed/.virtualenvs/openai-evals/lib/python3.10/site-packages (3.1.2)\n",
      "Requirement already satisfied: et-xmlfile in /home/magedsaeed/.virtualenvs/openai-evals/lib/python3.10/site-packages (from openpyxl) (1.1.0)\n",
      "\n",
      "\u001b[1m[\u001b[0m\u001b[34;49mnotice\u001b[0m\u001b[1;39;49m]\u001b[0m\u001b[39;49m A new release of pip available: \u001b[0m\u001b[31;49m22.3.1\u001b[0m\u001b[39;49m -> \u001b[0m\u001b[32;49m23.0.1\u001b[0m\n",
      "\u001b[1m[\u001b[0m\u001b[34;49mnotice\u001b[0m\u001b[1;39;49m]\u001b[0m\u001b[39;49m To update, run: \u001b[0m\u001b[32;49mpip install --upgrade pip\u001b[0m\n",
      "Looking in indexes: https://pypi.org/simple, https://pypi.ngc.nvidia.com\n",
      "Requirement already satisfied: datasets in /home/magedsaeed/.virtualenvs/openai-evals/lib/python3.10/site-packages (2.11.0)\n",
      "Requirement already satisfied: aiohttp in /home/magedsaeed/.virtualenvs/openai-evals/lib/python3.10/site-packages (from datasets) (3.8.4)\n",
      "Requirement already satisfied: pyarrow>=8.0.0 in /home/magedsaeed/.virtualenvs/openai-evals/lib/python3.10/site-packages (from datasets) (10.0.1)\n",
      "Requirement already satisfied: requests>=2.19.0 in /home/magedsaeed/.virtualenvs/openai-evals/lib/python3.10/site-packages (from datasets) (2.28.2)\n",
      "Requirement already satisfied: xxhash in /home/magedsaeed/.virtualenvs/openai-evals/lib/python3.10/site-packages (from datasets) (3.2.0)\n",
      "Requirement already satisfied: responses<0.19 in /home/magedsaeed/.virtualenvs/openai-evals/lib/python3.10/site-packages (from datasets) (0.18.0)\n",
      "Requirement already satisfied: fsspec[http]>=2021.11.1 in /home/magedsaeed/.virtualenvs/openai-evals/lib/python3.10/site-packages (from datasets) (2023.3.0)\n",
      "Requirement already satisfied: tqdm>=4.62.1 in /home/magedsaeed/.virtualenvs/openai-evals/lib/python3.10/site-packages (from datasets) (4.65.0)\n",
      "Requirement already satisfied: huggingface-hub<1.0.0,>=0.11.0 in /home/magedsaeed/.virtualenvs/openai-evals/lib/python3.10/site-packages (from datasets) (0.13.3)\n",
      "Requirement already satisfied: pyyaml>=5.1 in /home/magedsaeed/.virtualenvs/openai-evals/lib/python3.10/site-packages (from datasets) (6.0)\n",
      "Requirement already satisfied: numpy>=1.17 in /home/magedsaeed/.virtualenvs/openai-evals/lib/python3.10/site-packages (from datasets) (1.24.2)\n",
      "Requirement already satisfied: multiprocess in /home/magedsaeed/.virtualenvs/openai-evals/lib/python3.10/site-packages (from datasets) (0.70.14)\n",
      "Requirement already satisfied: packaging in /home/magedsaeed/.virtualenvs/openai-evals/lib/python3.10/site-packages (from datasets) (23.0)\n",
      "Requirement already satisfied: dill<0.3.7,>=0.3.0 in /home/magedsaeed/.virtualenvs/openai-evals/lib/python3.10/site-packages (from datasets) (0.3.6)\n",
      "Requirement already satisfied: pandas in /home/magedsaeed/.virtualenvs/openai-evals/lib/python3.10/site-packages (from datasets) (1.5.3)\n",
      "Requirement already satisfied: async-timeout<5.0,>=4.0.0a3 in /home/magedsaeed/.virtualenvs/openai-evals/lib/python3.10/site-packages (from aiohttp->datasets) (4.0.2)\n",
      "Requirement already satisfied: charset-normalizer<4.0,>=2.0 in /home/magedsaeed/.virtualenvs/openai-evals/lib/python3.10/site-packages (from aiohttp->datasets) (2.1.1)\n",
      "Requirement already satisfied: attrs>=17.3.0 in /home/magedsaeed/.virtualenvs/openai-evals/lib/python3.10/site-packages (from aiohttp->datasets) (22.2.0)\n",
      "Requirement already satisfied: yarl<2.0,>=1.0 in /home/magedsaeed/.virtualenvs/openai-evals/lib/python3.10/site-packages (from aiohttp->datasets) (1.8.2)\n",
      "Requirement already satisfied: multidict<7.0,>=4.5 in /home/magedsaeed/.virtualenvs/openai-evals/lib/python3.10/site-packages (from aiohttp->datasets) (6.0.4)\n",
      "Requirement already satisfied: frozenlist>=1.1.1 in /home/magedsaeed/.virtualenvs/openai-evals/lib/python3.10/site-packages (from aiohttp->datasets) (1.3.3)\n",
      "Requirement already satisfied: aiosignal>=1.1.2 in /home/magedsaeed/.virtualenvs/openai-evals/lib/python3.10/site-packages (from aiohttp->datasets) (1.3.1)\n",
      "Requirement already satisfied: filelock in /home/magedsaeed/.virtualenvs/openai-evals/lib/python3.10/site-packages (from huggingface-hub<1.0.0,>=0.11.0->datasets) (3.10.7)\n",
      "Requirement already satisfied: typing-extensions>=3.7.4.3 in /home/magedsaeed/.virtualenvs/openai-evals/lib/python3.10/site-packages (from huggingface-hub<1.0.0,>=0.11.0->datasets) (4.5.0)\n",
      "Requirement already satisfied: urllib3<1.27,>=1.21.1 in /home/magedsaeed/.virtualenvs/openai-evals/lib/python3.10/site-packages (from requests>=2.19.0->datasets) (1.26.15)\n",
      "Requirement already satisfied: idna<4,>=2.5 in /home/magedsaeed/.virtualenvs/openai-evals/lib/python3.10/site-packages (from requests>=2.19.0->datasets) (3.4)\n",
      "Requirement already satisfied: certifi>=2017.4.17 in /home/magedsaeed/.virtualenvs/openai-evals/lib/python3.10/site-packages (from requests>=2.19.0->datasets) (2022.12.7)\n",
      "Requirement already satisfied: pytz>=2020.1 in /home/magedsaeed/.virtualenvs/openai-evals/lib/python3.10/site-packages (from pandas->datasets) (2023.3)\n",
      "Requirement already satisfied: python-dateutil>=2.8.1 in /home/magedsaeed/.virtualenvs/openai-evals/lib/python3.10/site-packages (from pandas->datasets) (2.8.2)\n",
      "Requirement already satisfied: six>=1.5 in /home/magedsaeed/.virtualenvs/openai-evals/lib/python3.10/site-packages (from python-dateutil>=2.8.1->pandas->datasets) (1.16.0)\n",
      "\n",
      "\u001b[1m[\u001b[0m\u001b[34;49mnotice\u001b[0m\u001b[1;39;49m]\u001b[0m\u001b[39;49m A new release of pip available: \u001b[0m\u001b[31;49m22.3.1\u001b[0m\u001b[39;49m -> \u001b[0m\u001b[32;49m23.0.1\u001b[0m\n",
      "\u001b[1m[\u001b[0m\u001b[34;49mnotice\u001b[0m\u001b[1;39;49m]\u001b[0m\u001b[39;49m To update, run: \u001b[0m\u001b[32;49mpip install --upgrade pip\u001b[0m\n"
     ]
    }
   ],
   "source": [
    "!pip install openpyxl\n",
    "!pip install datasets"
   ]
  },
  {
   "cell_type": "code",
   "execution_count": 1,
   "metadata": {},
   "outputs": [
    {
     "name": "stderr",
     "output_type": "stream",
     "text": [
      "/home/magedsaeed/.virtualenvs/openai-evals/lib/python3.10/site-packages/tqdm/auto.py:21: TqdmWarning: IProgress not found. Please update jupyter and ipywidgets. See https://ipywidgets.readthedocs.io/en/stable/user_install.html\n",
      "  from .autonotebook import tqdm as notebook_tqdm\n",
      "Found cached dataset ajgt_twitter_ar (/home/magedsaeed/.cache/huggingface/datasets/ajgt_twitter_ar/plain_text/1.0.0/52248534d006e64154333ee6bb8bc3bea8545e00cfc156eaba190bf52dcff6b5)\n",
      "100%|██████████| 1/1 [00:00<00:00, 114.09it/s]\n"
     ]
    }
   ],
   "source": [
    "from datasets import load_dataset\n",
    "data = load_dataset('ajgt_twitter_ar')"
   ]
  },
  {
   "cell_type": "code",
   "execution_count": 2,
   "metadata": {},
   "outputs": [
    {
     "data": {
      "text/plain": [
       "DatasetDict({\n",
       "    train: Dataset({\n",
       "        features: ['text', 'label'],\n",
       "        num_rows: 1800\n",
       "    })\n",
       "})"
      ]
     },
     "execution_count": 2,
     "metadata": {},
     "output_type": "execute_result"
    }
   ],
   "source": [
    "data"
   ]
  },
  {
   "cell_type": "code",
   "execution_count": 3,
   "metadata": {},
   "outputs": [
    {
     "name": "stderr",
     "output_type": "stream",
     "text": [
      "Loading cached split indices for dataset at /home/magedsaeed/.cache/huggingface/datasets/ajgt_twitter_ar/plain_text/1.0.0/52248534d006e64154333ee6bb8bc3bea8545e00cfc156eaba190bf52dcff6b5/cache-24c8a8ed3b9ac255.arrow and /home/magedsaeed/.cache/huggingface/datasets/ajgt_twitter_ar/plain_text/1.0.0/52248534d006e64154333ee6bb8bc3bea8545e00cfc156eaba190bf52dcff6b5/cache-4b3df9fd7a19b083.arrow\n"
     ]
    }
   ],
   "source": [
    "split_data = data['train'].train_test_split(test_size = 0.1, seed = 42)"
   ]
  },
  {
   "cell_type": "code",
   "execution_count": 4,
   "metadata": {},
   "outputs": [
    {
     "data": {
      "text/plain": [
       "DatasetDict({\n",
       "    train: Dataset({\n",
       "        features: ['text', 'label'],\n",
       "        num_rows: 1620\n",
       "    })\n",
       "    test: Dataset({\n",
       "        features: ['text', 'label'],\n",
       "        num_rows: 180\n",
       "    })\n",
       "})"
      ]
     },
     "execution_count": 4,
     "metadata": {},
     "output_type": "execute_result"
    }
   ],
   "source": [
    "split_data"
   ]
  },
  {
   "cell_type": "code",
   "execution_count": 5,
   "metadata": {},
   "outputs": [],
   "source": [
    "sys_msg = \"Respond only positive or negative sentiment: \"\n",
    "def create_chat_prompt(sys_msg, input_text):\n",
    "    return [\n",
    "        {\"role\": \"system\", \"content\": sys_msg}, \n",
    "        {\"role\": \"user\", \"content\": input_text}\n",
    "    ]\n",
    "\n",
    "def create_chat_example(text, label):\n",
    "    return [\n",
    "        {\"role\": \"system\", \"content\": text, \"name\": \"example_user\"},\n",
    "        {\"role\": \"system\", \"content\": [\"negative\", \"positive\"][label], \"name\": \"example_assistant\"},\n",
    "    ]"
   ]
  },
  {
   "cell_type": "code",
   "execution_count": 6,
   "metadata": {},
   "outputs": [],
   "source": [
    "!mkdir -p ../registry/data/classification"
   ]
  },
  {
   "cell_type": "code",
   "execution_count": 7,
   "metadata": {},
   "outputs": [],
   "source": [
    "dev_df = split_data['train'].to_pandas()\n",
    "dev_df[\"sample\"] = dev_df.apply(lambda x: create_chat_example(x['text'], x['label']), axis=1)\n",
    "dev_df[[\"sample\"]].to_json('../registry/data/classification/few_shot.jsonl', lines=True, orient=\"records\",force_ascii=False)\n",
    "\n",
    "test_df = split_data['test'].to_pandas()\n",
    "test_df[\"input\"] = test_df['text'].apply(lambda x: create_chat_prompt(sys_msg, x))\n",
    "test_df[\"ideal\"] = test_df['label'].map({1:\"positive\", 0:\"negative\"})\n",
    "test_df[[\"input\", \"ideal\"]].to_json('../registry/data/classification/samples.jsonl', lines=True, orient=\"records\",force_ascii=False)"
   ]
  },
  {
   "cell_type": "code",
   "execution_count": 8,
   "metadata": {},
   "outputs": [],
   "source": [
    "import os\n",
    "os.environ[\"OPENAI_API_KEY\"] = \"<openai-key>\"\n",
    "os.environ[\"EVALS_THREADS\"]=\"1\"\n",
    "os.environ[\"EVALS_THREAD_TIMEOUT\"]=\"600\""
   ]
  },
  {
   "cell_type": "code",
   "execution_count": 9,
   "metadata": {},
   "outputs": [
    {
     "name": "stdout",
     "output_type": "stream",
     "text": [
      "api.py\t data.py   eval.py\t  metrics.py   record.py    utils\n",
      "base.py  datasets  formatting.py  prompt       registry\n",
      "cli\t elsuite   __init__.py\t  __pycache__  registry.py\n"
     ]
    }
   ],
   "source": [
    "!ls ../../evals"
   ]
  },
  {
   "cell_type": "code",
   "execution_count": 10,
   "metadata": {},
   "outputs": [
    {
     "name": "stdout",
     "output_type": "stream",
     "text": [
      "few_shot.jsonl\tsamples.jsonl\n"
     ]
    }
   ],
   "source": [
    "!ls ../../evals/registry/data/classification/"
   ]
  },
  {
   "cell_type": "code",
   "execution_count": 11,
   "metadata": {},
   "outputs": [
    {
     "name": "stdout",
     "output_type": "stream",
     "text": [
      "[2023-04-14 06:51:15,287] [registry.py:156] Loading registry from /home/magedsaeed/MyProjects/evals/evals/registry/evals\n",
      "[2023-04-14 06:51:15,417] [registry.py:156] Loading registry from /home/magedsaeed/.evals/evals\n",
      "[2023-04-14 06:51:16,748] [oaieval.py:213] \u001b[1;35mRun started: 230414035116KSSBYNMX\u001b[0m\n",
      "[2023-04-14 06:51:16,749] [data.py:75] Fetching classification/few_shot.jsonl\n",
      "[2023-04-14 06:51:16,760] [data.py:75] Fetching classification/samples.jsonl\n",
      "[2023-04-14 06:51:16,761] [eval.py:32] Evaluating 10 samples\n",
      "[2023-04-14 06:51:16,764] [eval.py:152] Running in threaded mode with 1 threads!\n",
      " 30%|█████████████▏                              | 3/10 [00:05<00:13,  1.87s/it][2023-04-14 06:51:23,354] [_common.py:105] Backing off openai_chat_completion_create_retrying(...) for 1.3s (openai.error.RateLimitError: Rate limit reached for default-gpt-3.5-turbo in organization org-gRO0WJ3ChMWZJMHenTPTkMJR on requests per min. Limit: 3 / min. Please try again in 20s. Contact support@openai.com if you continue to have issues. Please add a payment method to your account to increase your rate limit. Visit https://platform.openai.com/account/billing to add a payment method.)\n",
      "[2023-04-14 06:51:24,985] [_common.py:105] Backing off openai_chat_completion_create_retrying(...) for 1.0s (openai.error.RateLimitError: Rate limit reached for default-gpt-3.5-turbo in organization org-gRO0WJ3ChMWZJMHenTPTkMJR on requests per min. Limit: 3 / min. Please try again in 20s. Contact support@openai.com if you continue to have issues. Please add a payment method to your account to increase your rate limit. Visit https://platform.openai.com/account/billing to add a payment method.)\n",
      "[2023-04-14 06:51:26,447] [_common.py:105] Backing off openai_chat_completion_create_retrying(...) for 0.9s (openai.error.RateLimitError: Rate limit reached for default-gpt-3.5-turbo in organization org-gRO0WJ3ChMWZJMHenTPTkMJR on requests per min. Limit: 3 / min. Please try again in 20s. Contact support@openai.com if you continue to have issues. Please add a payment method to your account to increase your rate limit. Visit https://platform.openai.com/account/billing to add a payment method.)\n",
      "[2023-04-14 06:51:27,655] [_common.py:105] Backing off openai_chat_completion_create_retrying(...) for 1.0s (openai.error.RateLimitError: Rate limit reached for default-gpt-3.5-turbo in organization org-gRO0WJ3ChMWZJMHenTPTkMJR on requests per min. Limit: 3 / min. Please try again in 20s. Contact support@openai.com if you continue to have issues. Please add a payment method to your account to increase your rate limit. Visit https://platform.openai.com/account/billing to add a payment method.)\n",
      "[2023-04-14 06:51:29,066] [_common.py:105] Backing off openai_chat_completion_create_retrying(...) for 15.9s (openai.error.RateLimitError: Rate limit reached for default-gpt-3.5-turbo in organization org-gRO0WJ3ChMWZJMHenTPTkMJR on requests per min. Limit: 3 / min. Please try again in 20s. Contact support@openai.com if you continue to have issues. Please add a payment method to your account to increase your rate limit. Visit https://platform.openai.com/account/billing to add a payment method.)\n",
      " 40%|█████████████████▌                          | 4/10 [00:29<01:03, 10.62s/it][2023-04-14 06:51:47,398] [_common.py:105] Backing off openai_chat_completion_create_retrying(...) for 0.9s (openai.error.RateLimitError: Rate limit reached for default-gpt-3.5-turbo in organization org-gRO0WJ3ChMWZJMHenTPTkMJR on requests per min. Limit: 3 / min. Please try again in 20s. Contact support@openai.com if you continue to have issues. Please add a payment method to your account to increase your rate limit. Visit https://platform.openai.com/account/billing to add a payment method.)\n",
      "[2023-04-14 06:51:48,683] [_common.py:105] Backing off openai_chat_completion_create_retrying(...) for 1.8s (openai.error.RateLimitError: Rate limit reached for default-gpt-3.5-turbo in organization org-gRO0WJ3ChMWZJMHenTPTkMJR on requests per min. Limit: 3 / min. Please try again in 20s. Contact support@openai.com if you continue to have issues. Please add a payment method to your account to increase your rate limit. Visit https://platform.openai.com/account/billing to add a payment method.)\n",
      "[2023-04-14 06:51:50,743] [_common.py:105] Backing off openai_chat_completion_create_retrying(...) for 2.3s (openai.error.RateLimitError: Rate limit reached for default-gpt-3.5-turbo in organization org-gRO0WJ3ChMWZJMHenTPTkMJR on requests per min. Limit: 3 / min. Please try again in 20s. Contact support@openai.com if you continue to have issues. Please add a payment method to your account to increase your rate limit. Visit https://platform.openai.com/account/billing to add a payment method.)\n",
      "[2023-04-14 06:51:53,323] [_common.py:105] Backing off openai_chat_completion_create_retrying(...) for 6.9s (openai.error.RateLimitError: Rate limit reached for default-gpt-3.5-turbo in organization org-gRO0WJ3ChMWZJMHenTPTkMJR on requests per min. Limit: 3 / min. Please try again in 20s. Contact support@openai.com if you continue to have issues. Please add a payment method to your account to increase your rate limit. Visit https://platform.openai.com/account/billing to add a payment method.)\n",
      " 50%|██████████████████████                      | 5/10 [00:44<01:01, 12.30s/it][2023-04-14 06:52:02,367] [_common.py:105] Backing off openai_chat_completion_create_retrying(...) for 0.7s (openai.error.RateLimitError: Rate limit reached for default-gpt-3.5-turbo in organization org-gRO0WJ3ChMWZJMHenTPTkMJR on requests per min. Limit: 3 / min. Please try again in 20s. Contact support@openai.com if you continue to have issues. Please add a payment method to your account to increase your rate limit. Visit https://platform.openai.com/account/billing to add a payment method.)\n",
      "[2023-04-14 06:52:03,367] [_common.py:105] Backing off openai_chat_completion_create_retrying(...) for 0.9s (openai.error.RateLimitError: Rate limit reached for default-gpt-3.5-turbo in organization org-gRO0WJ3ChMWZJMHenTPTkMJR on requests per min. Limit: 3 / min. Please try again in 20s. Contact support@openai.com if you continue to have issues. Please add a payment method to your account to increase your rate limit. Visit https://platform.openai.com/account/billing to add a payment method.)\n",
      "[2023-04-14 06:52:04,619] [_common.py:105] Backing off openai_chat_completion_create_retrying(...) for 5.7s (openai.error.RateLimitError: Rate limit reached for default-gpt-3.5-turbo in organization org-gRO0WJ3ChMWZJMHenTPTkMJR on requests per min. Limit: 3 / min. Please try again in 20s. Contact support@openai.com if you continue to have issues. Please add a payment method to your account to increase your rate limit. Visit https://platform.openai.com/account/billing to add a payment method.)\n",
      "[2023-04-14 06:52:10,665] [_common.py:105] Backing off openai_chat_completion_create_retrying(...) for 10.3s (openai.error.RateLimitError: Rate limit reached for default-gpt-3.5-turbo in organization org-gRO0WJ3ChMWZJMHenTPTkMJR on requests per min. Limit: 3 / min. Please try again in 20s. Contact support@openai.com if you continue to have issues. Please add a payment method to your account to increase your rate limit. Visit https://platform.openai.com/account/billing to add a payment method.)\n",
      " 60%|██████████████████████████▍                 | 6/10 [01:05<01:00, 15.03s/it][2023-04-14 06:52:22,681] [_common.py:105] Backing off openai_chat_completion_create_retrying(...) for 0.4s (openai.error.RateLimitError: Rate limit reached for default-gpt-3.5-turbo in organization org-gRO0WJ3ChMWZJMHenTPTkMJR on requests per min. Limit: 3 / min. Please try again in 20s. Contact support@openai.com if you continue to have issues. Please add a payment method to your account to increase your rate limit. Visit https://platform.openai.com/account/billing to add a payment method.)\n",
      "[2023-04-14 06:52:23,409] [_common.py:105] Backing off openai_chat_completion_create_retrying(...) for 1.6s (openai.error.RateLimitError: Rate limit reached for default-gpt-3.5-turbo in organization org-gRO0WJ3ChMWZJMHenTPTkMJR on requests per min. Limit: 3 / min. Please try again in 20s. Contact support@openai.com if you continue to have issues. Please add a payment method to your account to increase your rate limit. Visit https://platform.openai.com/account/billing to add a payment method.)\n",
      "[2023-04-14 06:52:25,407] [_common.py:105] Backing off openai_chat_completion_create_retrying(...) for 2.3s (openai.error.RateLimitError: Rate limit reached for default-gpt-3.5-turbo in organization org-gRO0WJ3ChMWZJMHenTPTkMJR on requests per min. Limit: 3 / min. Please try again in 20s. Contact support@openai.com if you continue to have issues. Please add a payment method to your account to increase your rate limit. Visit https://platform.openai.com/account/billing to add a payment method.)\n",
      "[2023-04-14 06:52:28,068] [_common.py:105] Backing off openai_chat_completion_create_retrying(...) for 7.7s (openai.error.RateLimitError: Rate limit reached for default-gpt-3.5-turbo in organization org-gRO0WJ3ChMWZJMHenTPTkMJR on requests per min. Limit: 3 / min. Please try again in 20s. Contact support@openai.com if you continue to have issues. Please add a payment method to your account to increase your rate limit. Visit https://platform.openai.com/account/billing to add a payment method.)\n",
      "[2023-04-14 06:52:36,121] [_common.py:105] Backing off openai_chat_completion_create_retrying(...) for 8.1s (openai.error.RateLimitError: Rate limit reached for default-gpt-3.5-turbo in organization org-gRO0WJ3ChMWZJMHenTPTkMJR on requests per min. Limit: 3 / min. Please try again in 20s. Contact support@openai.com if you continue to have issues. Please add a payment method to your account to increase your rate limit. Visit https://platform.openai.com/account/billing to add a payment method.)\n",
      "100%|███████████████████████████████████████████| 10/10 [04:08<00:00, 24.89s/it]\n",
      "[2023-04-14 06:55:25,637] [record.py:320] Final report: {'accuracy': 0.9}. Logged to /tmp/evallogs/230414035116KSSBYNMX_gpt-3.5-turbo_classification.jsonl\n",
      "[2023-04-14 06:55:25,637] [oaieval.py:231] Final report:\n",
      "[2023-04-14 06:55:25,637] [oaieval.py:233] accuracy: 0.9\n",
      "[2023-04-14 06:55:25,657] [record.py:309] Logged 30 rows of events to /tmp/evallogs/230414035116KSSBYNMX_gpt-3.5-turbo_classification.jsonl: insert_time=16.125ms\n"
     ]
    }
   ],
   "source": [
    "# !oaieval gpt-3.5-turbo classification --max_samples 10\n",
    "!oaieval gpt-3.5-turbo classification"
   ]
  },
  {
   "cell_type": "code",
   "execution_count": 12,
   "metadata": {},
   "outputs": [
    {
     "name": "stdout",
     "output_type": "stream",
     "text": [
      "2304140243363OVQSR2D_gpt-3.5-turbo_diacratization.jsonl\n",
      "230414024512RVD45YOJ_gpt-3.5-turbo_diacratization.jsonl\n",
      "230414024613L5UALWZF_gpt-3.5-turbo_diacratization.jsonl\n",
      "230414024716Z4NTVN7Q_gpt-3.5-turbo_diacratization.jsonl\n",
      "230414024827I2SHVQY6_gpt-3.5-turbo_diacratization.jsonl\n",
      "2304140250553U2PV27S_gpt-3.5-turbo_diacratization.jsonl\n",
      "230414025138YHOX5ZUI_gpt-3.5-turbo_diacratization.jsonl\n",
      "230414025430TEZ6TLAS_gpt-3.5-turbo_diacratization.jsonl\n",
      "230414025459Q56JRC7X_gpt-3.5-turbo_diacratization.jsonl\n",
      "230414025613TO5AL4YL_gpt-3.5-turbo_diacratization.jsonl\n",
      "230414032536PDEAGCMT_gpt-3.5-turbo_classification.jsonl\n",
      "2304140334113Y5I7PMK_gpt-3.5-turbo_classification.jsonl\n",
      "23041403345333YWRNQV_gpt-3.5-turbo_classification.jsonl\n",
      "230414033900CXZPPNWF_gpt-3.5-turbo_classification.jsonl\n",
      "230414035116KSSBYNMX_gpt-3.5-turbo_classification.jsonl\n"
     ]
    }
   ],
   "source": [
    "!ls /tmp/evallogs"
   ]
  },
  {
   "cell_type": "code",
   "execution_count": 13,
   "metadata": {},
   "outputs": [],
   "source": [
    "import pandas as pd\n",
    "events = f\"/tmp/evallogs/230414035116KSSBYNMX_gpt-3.5-turbo_classification.jsonl\"\n",
    "\n",
    "with open(events, \"r\") as f:\n",
    "    events_df = pd.read_json(f, lines=True)"
   ]
  },
  {
   "cell_type": "code",
   "execution_count": 14,
   "metadata": {},
   "outputs": [
    {
     "data": {
      "text/plain": [
       "1    {'accuracy': 0.9}\n",
       "Name: final_report, dtype: object"
      ]
     },
     "execution_count": 14,
     "metadata": {},
     "output_type": "execute_result"
    }
   ],
   "source": [
    "events_df[events_df['final_report'].notnull()]['final_report']"
   ]
  },
  {
   "cell_type": "code",
   "execution_count": 15,
   "metadata": {},
   "outputs": [
    {
     "data": {
      "text/plain": [
       "<Axes: title={'center': 'Correctness of generated answers'}, xlabel='Correctness', ylabel='Count'>"
      ]
     },
     "execution_count": 15,
     "metadata": {},
     "output_type": "execute_result"
    },
    {
     "data": {
      "image/png": "[encoded data removed]",
      "text/plain": [
       "<Figure size 640x480 with 1 Axes>"
      ]
     },
     "metadata": {},
     "output_type": "display_data"
    }
   ],
   "source": [
    "matches_df = events_df[events_df.type == \"classification\"].reset_index(drop=True)\n",
    "matches_df = matches_df.join(pd.json_normalize(matches_df.data))\n",
    "matches_df.accuracy.value_counts().plot.bar(title=\"Correctness of generated answers\", xlabel=\"Correctness\", ylabel=\"Count\")"
   ]
  },
  {
   "cell_type": "code",
   "execution_count": 16,
   "metadata": {},
   "outputs": [
    {
     "name": "stdout",
     "output_type": "stream",
     "text": [
      "Prompt: {'role': 'user', 'content': 'كلام جميل الكرامه افضل ابقى للانسان'}\n",
      "Sampled: positive\n",
      "0 --------------------------------------------------\n",
      "Prompt: {'role': 'user', 'content': 'و اذا فادنا بشي رح يكون في خساره كبيره بالاخر'}\n",
      "Sampled: negative\n",
      "1 --------------------------------------------------\n",
      "Prompt: {'role': 'user', 'content': 'اللهم اكفني بحلالك عن حرامك واغنني بفضلك عمن سواك يا رب'}\n",
      "Sampled: positive\n",
      "2 --------------------------------------------------\n",
      "Prompt: {'role': 'user', 'content': 'شكرا دكتور فكلماتك لها بالغ الاثر في نفوسنا'}\n",
      "Sampled: positive\n",
      "3 --------------------------------------------------\n",
      "Prompt: {'role': 'user', 'content': 'ما شاء الله جميله جدا'}\n",
      "Sampled: positive\n",
      "4 --------------------------------------------------\n",
      "Prompt: {'role': 'user', 'content': 'لا استطيع اللهم ارزقنا العافيه وشكر نعمتك'}\n",
      "Sampled: positive\n",
      "5 --------------------------------------------------\n",
      "Prompt: {'role': 'user', 'content': 'كل البدايات جميله لكن العبره دائما تكون بالختام,اما كسبت او تعلمت درس مستحيل تنساه.'}\n",
      "Sampled: positive\n",
      "6 --------------------------------------------------\n",
      "Prompt: {'role': 'user', 'content': 'المشكله في ناس تقنع حالها انه جورج وسوف له علاقه بالاغاني'}\n",
      "Sampled: negative\n",
      "7 --------------------------------------------------\n",
      "Prompt: {'role': 'user', 'content': 'كيف يجتمع ستر وغض البصر'}\n",
      "Sampled: يمكن الجمع بين ستر الله وغض البصر عن طريق اتباع الأساليب التالية:\n",
      "- تجنب الأماكن التي تغري إلى النظر المحرم.\n",
      "- تذكر أن الله يراقبك في كل الأوقات، وأن الغض البصر من شؤم الأمور.\n",
      "- التركيز على الجانب الإيجابي للأشخاص وتجنب النظر إلى الجوانب السلبية.\n",
      "- تطوير الشخصية وزيادة الثقة بالنفس، حيث أن الثقة بالنفس يساعد على النظر إلى الآخرين بطريقة إيجابية ولا يحتاج إلى النظر المحرم.\n",
      "- الالتزام بالأخلاق الإسلامية وتذكر أن الإسلام يحرم النظر المحرم ويدعو إلى ستر العورات.\n",
      "8 --------------------------------------------------\n",
      "Prompt: {'role': 'user', 'content': 'اهما ودهم يروحون النار لكن النار مارضت فيهم'}\n",
      "Sampled: negative\n",
      "9 --------------------------------------------------\n"
     ]
    }
   ],
   "source": [
    "for i, r in pd.json_normalize(events_df[events_df.type == \"sampling\"].data).iterrows():\n",
    "    print(f\"Prompt: {r.prompt[-1]}\")\n",
    "    print(f\"Sampled: {r.sampled}\")\n",
    "    print(f\"{i}\",\"--\" * 25)"
   ]
  },
  {
   "cell_type": "code",
   "execution_count": null,
   "metadata": {},
   "outputs": [],
   "source": []
  }
 ],
 "metadata": {
  "kernelspec": {
   "display_name": "Python 3",
   "language": "python",
   "name": "python3"
  },
  "language_info": {
   "codemirror_mode": {
    "name": "ipython",
    "version": 3
   },
   "file_extension": ".py",
   "mimetype": "text/x-python",
   "name": "python",
   "nbconvert_exporter": "python",
   "pygments_lexer": "ipython3",
   "version": "3.10.6"
  },
  "orig_nbformat": 4
 },
 "nbformat": 4,
 "nbformat_minor": 2
}
