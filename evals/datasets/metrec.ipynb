{
 "cells": [
  {
   "cell_type": "code",
   "execution_count": 1,
   "metadata": {},
   "outputs": [
    {
     "name": "stdout",
     "output_type": "stream",
     "text": [
      "\n",
      "\u001b[1m[\u001b[0m\u001b[34;49mnotice\u001b[0m\u001b[1;39;49m]\u001b[0m\u001b[39;49m A new release of pip available: \u001b[0m\u001b[31;49m22.3.1\u001b[0m\u001b[39;49m -> \u001b[0m\u001b[32;49m23.0.1\u001b[0m\n",
      "\u001b[1m[\u001b[0m\u001b[34;49mnotice\u001b[0m\u001b[1;39;49m]\u001b[0m\u001b[39;49m To update, run: \u001b[0m\u001b[32;49mpip install --upgrade pip\u001b[0m\n",
      "\n",
      "\u001b[1m[\u001b[0m\u001b[34;49mnotice\u001b[0m\u001b[1;39;49m]\u001b[0m\u001b[39;49m A new release of pip available: \u001b[0m\u001b[31;49m22.3.1\u001b[0m\u001b[39;49m -> \u001b[0m\u001b[32;49m23.0.1\u001b[0m\n",
      "\u001b[1m[\u001b[0m\u001b[34;49mnotice\u001b[0m\u001b[1;39;49m]\u001b[0m\u001b[39;49m To update, run: \u001b[0m\u001b[32;49mpip install --upgrade pip\u001b[0m\n"
     ]
    }
   ],
   "source": [
    "!pip install -q openpyxl\n",
    "!pip install -q datasets"
   ]
  },
  {
   "cell_type": "code",
   "execution_count": 2,
   "metadata": {},
   "outputs": [
    {
     "name": "stderr",
     "output_type": "stream",
     "text": [
      "/home/magedsaeed/.virtualenvs/openai-evals/lib/python3.10/site-packages/tqdm/auto.py:21: TqdmWarning: IProgress not found. Please update jupyter and ipywidgets. See https://ipywidgets.readthedocs.io/en/stable/user_install.html\n",
      "  from .autonotebook import tqdm as notebook_tqdm\n",
      "Found cached dataset metrec (/home/magedsaeed/.cache/huggingface/datasets/metrec/plain_text/1.0.0/f7b739eb73ee54df58d0159e35de5d6bdddaf2f661cc17add9f444e7167ef77c)\n",
      "100%|██████████| 2/2 [00:00<00:00, 362.17it/s]\n"
     ]
    }
   ],
   "source": [
    "from datasets import load_dataset\n",
    "data = load_dataset('metrec')"
   ]
  },
  {
   "cell_type": "code",
   "execution_count": 3,
   "metadata": {},
   "outputs": [
    {
     "data": {
      "text/plain": [
       "DatasetDict({\n",
       "    train: Dataset({\n",
       "        features: ['text', 'label'],\n",
       "        num_rows: 47124\n",
       "    })\n",
       "    test: Dataset({\n",
       "        features: ['text', 'label'],\n",
       "        num_rows: 8316\n",
       "    })\n",
       "})"
      ]
     },
     "execution_count": 3,
     "metadata": {},
     "output_type": "execute_result"
    }
   ],
   "source": [
    "data"
   ]
  },
  {
   "cell_type": "code",
   "execution_count": 4,
   "metadata": {},
   "outputs": [],
   "source": [
    "meters = [\n",
    "'السريع',\n",
    "'الكامل',\n",
    "'المتقارب',\n",
    "'المتدارك',\n",
    "'المنسرح',\n",
    "'المديد',\n",
    "'المجتث',\n",
    "'الرمل',\n",
    "'البسيط',\n",
    "'الخفيف',\n",
    "'الطويل',\n",
    "'الوافر',\n",
    "'الهزج',\n",
    "'الرجز',\n",
    "]\n",
    "meter_names_to_labels = {\n",
    "    meter_name:meter_label for meter_label,meter_name in enumerate(meters)\n",
    "}\n",
    "meter_labels_to_names = {meter_label:meter_name for meter_name,meter_label in meter_names_to_labels.items()}"
   ]
  },
  {
   "cell_type": "code",
   "execution_count": 5,
   "metadata": {},
   "outputs": [],
   "source": [
    "sys_msg = \"\"\"\n",
    "Please give the meter of the following Arabic verse, please only specify the meter without any further details. For example, if I give you the following verse:\n",
    "قفا نبك من ذكرى حبيب ومنزل # بسقط اللوى ثم الدخول فحومل\n",
    "you answer should be:\n",
    "الطويل\n",
    "Now, what is the meter of this verse:\n",
    "\"\"\".strip()\n",
    "def create_chat_prompt(input_text=sys_msg):\n",
    "    return [\n",
    "        {\"role\": \"system\", \"content\": sys_msg}, \n",
    "        {\"role\": \"user\", \"content\": input_text}\n",
    "    ]\n",
    "\n",
    "def create_chat_example(text, meter_name):\n",
    "    return [\n",
    "        {\"role\": \"system\", \"content\": text, \"name\": \"example_user\"},\n",
    "        {\"role\": \"system\", \"content\": meter_name, \"name\": \"example_assistant\"},\n",
    "    ]"
   ]
  },
  {
   "cell_type": "code",
   "execution_count": 6,
   "metadata": {},
   "outputs": [],
   "source": [
    "!mkdir -p ../registry/data/meter_classification"
   ]
  },
  {
   "cell_type": "code",
   "execution_count": 7,
   "metadata": {},
   "outputs": [],
   "source": [
    "dev_df = data[\"train\"].to_pandas()\n",
    "dev_df[\"sample\"] = dev_df.apply(\n",
    "    lambda x: create_chat_example(\n",
    "        text=x[\"text\"],\n",
    "        meter_name=meter_labels_to_names[x[\"label\"]],\n",
    "    ),\n",
    "    axis=1,\n",
    ")\n",
    "dev_df[[\"sample\"]].to_json(\n",
    "    \"../registry/data/meter_classification/metrec_fewshot.jsonl\",\n",
    "    lines=True,\n",
    "    orient=\"records\",\n",
    ")\n",
    "\n",
    "test_df = data[\"test\"].to_pandas()\n",
    "test_df[\"input\"] = test_df[\"text\"].apply(lambda x: create_chat_prompt(input_text=x))\n",
    "test_df[\"ideal\"] = test_df[\"label\"].map(meter_labels_to_names)\n",
    "test_df[[\"input\", \"ideal\"]].to_json(\n",
    "    \"../registry/data/meter_classification/metrec_samples.jsonl\", lines=True, orient=\"records\"\n",
    ")\n"
   ]
  },
  {
   "cell_type": "code",
   "execution_count": 8,
   "metadata": {},
   "outputs": [],
   "source": [
    "import os\n",
    "os.environ[\"OPENAI_API_KEY\"] = \"<openai-key>\""
   ]
  },
  {
   "cell_type": "code",
   "execution_count": 9,
   "metadata": {},
   "outputs": [
    {
     "name": "stdout",
     "output_type": "stream",
     "text": [
      "ajgt.ipynb  easc.ipynb\tmetrec.ipynb\n"
     ]
    }
   ],
   "source": [
    "!ls"
   ]
  },
  {
   "cell_type": "code",
   "execution_count": 10,
   "metadata": {},
   "outputs": [
    {
     "name": "stdout",
     "output_type": "stream",
     "text": [
      "metrec_fewshot.jsonl  metrec_samples.jsonl\n"
     ]
    }
   ],
   "source": [
    "!ls ../registry/data/meter_classification"
   ]
  },
  {
   "cell_type": "code",
   "execution_count": 11,
   "metadata": {},
   "outputs": [],
   "source": [
    "meter_classification_task_specs = '''\n",
    "meter_classification:\n",
    "    id: meter_classification.test.v1\n",
    "    metrics: [accuracy]\n",
    "    description: Evaluate Arabic poetry meter classification\n",
    "# Define the eval\n",
    "meter_classification.test.v1:\n",
    "  # Specify the class name as a dotted path to the module and class\n",
    "  class: evals.elsuite.classification:Classification\n",
    "  args:\n",
    "    samples_jsonl: meter_classification/metrec_samples.jsonl\n",
    "    few_shot_jsonl: meter_classification/metrec_fewshot.jsonl # path to few shots file\n",
    "    num_few_shot: 5 # max few shots to use\n",
    "\n",
    "'''.strip()\n",
    "with open('../registry/evals/meter_classification.yaml','w') as file:\n",
    "  file.write(meter_classification_task_specs)"
   ]
  },
  {
   "cell_type": "code",
   "execution_count": 12,
   "metadata": {},
   "outputs": [
    {
     "name": "stdout",
     "output_type": "stream",
     "text": [
      "[2023-04-04 08:16:58,835] [registry.py:156] Loading registry from /home/magedsaeed/MyProjects/evals/evals/registry/evals\n",
      "[2023-04-04 08:16:58,976] [registry.py:156] Loading registry from /home/magedsaeed/.evals/evals\n",
      "[2023-04-04 08:16:59,916] [oaieval.py:213] \u001b[1;35mRun started: 230404051659T6F63267\u001b[0m\n",
      "[2023-04-04 08:16:59,919] [data.py:75] Fetching meter_classification/metrec_fewshot.jsonl\n",
      "[2023-04-04 08:17:00,302] [data.py:75] Fetching meter_classification/metrec_samples.jsonl\n",
      "[2023-04-04 08:17:00,435] [eval.py:32] Evaluating 10 samples\n",
      "[2023-04-04 08:17:00,440] [eval.py:152] Running in threaded mode with 10 threads!\n",
      "100%|███████████████████████████████████████████| 10/10 [00:02<00:00,  3.49it/s]\n",
      "[2023-04-04 08:17:03,326] [record.py:320] Final report: {'accuracy': 0.1}. Logged to /tmp/evallogs/230404051659T6F63267_gpt-3.5-turbo_meter_classification.jsonl\n",
      "[2023-04-04 08:17:03,326] [oaieval.py:231] Final report:\n",
      "[2023-04-04 08:17:03,326] [oaieval.py:233] accuracy: 0.1\n",
      "[2023-04-04 08:17:03,359] [record.py:309] Logged 30 rows of events to /tmp/evallogs/230404051659T6F63267_gpt-3.5-turbo_meter_classification.jsonl: insert_time=4.040ms\n"
     ]
    }
   ],
   "source": [
    "!oaieval gpt-3.5-turbo meter_classification --max_samples 10"
   ]
  },
  {
   "cell_type": "code",
   "execution_count": 13,
   "metadata": {},
   "outputs": [
    {
     "name": "stdout",
     "output_type": "stream",
     "text": [
      "230404050812KM4NUUAG_gpt-3.5-turbo_meter_classification.jsonl\n",
      "230404051341VKI7KM2X_gpt-3.5-turbo_meter_classification.jsonl\n",
      "2304040514224SUMAYKV_gpt-3.5-turbo_meter_classification.jsonl\n",
      "230404051659T6F63267_gpt-3.5-turbo_meter_classification.jsonl\n"
     ]
    }
   ],
   "source": [
    "!ls /tmp/evallogs"
   ]
  },
  {
   "cell_type": "code",
   "execution_count": 14,
   "metadata": {},
   "outputs": [],
   "source": [
    "import pandas as pd\n",
    "events = f\"/tmp/evallogs/230404051659T6F63267_gpt-3.5-turbo_meter_classification.jsonl\"\n",
    "\n",
    "with open(events, \"r\") as f:\n",
    "    events_df = pd.read_json(f, lines=True)"
   ]
  },
  {
   "cell_type": "code",
   "execution_count": 15,
   "metadata": {},
   "outputs": [
    {
     "data": {
      "text/plain": [
       "1    {'accuracy': 0.1}\n",
       "Name: final_report, dtype: object"
      ]
     },
     "execution_count": 15,
     "metadata": {},
     "output_type": "execute_result"
    }
   ],
   "source": [
    "events_df[events_df['final_report'].notnull()]['final_report']"
   ]
  },
  {
   "cell_type": "code",
   "execution_count": 17,
   "metadata": {},
   "outputs": [
    {
     "data": {
      "text/plain": [
       "<Axes: title={'center': 'Correctness of generated answers'}, xlabel='Correctness', ylabel='Count'>"
      ]
     },
     "execution_count": 17,
     "metadata": {},
     "output_type": "execute_result"
    },
    {
     "data": {
      "image/png": "[encoded data removed]",
      "text/plain": [
       "<Figure size 640x480 with 1 Axes>"
      ]
     },
     "metadata": {},
     "output_type": "display_data"
    }
   ],
   "source": [
    "matches_df = events_df[events_df.type == \"classification\"].reset_index(drop=True)\n",
    "matches_df = matches_df.join(pd.json_normalize(matches_df.data))\n",
    "matches_df.accuracy.value_counts().plot.bar(title=\"Correctness of generated answers\", xlabel=\"Correctness\", ylabel=\"Count\")"
   ]
  },
  {
   "cell_type": "code",
   "execution_count": 18,
   "metadata": {},
   "outputs": [
    {
     "name": "stdout",
     "output_type": "stream",
     "text": [
      "Prompt: {'role': 'user', 'content': 'خافٍ عَلى كُلِّ أَعمى # مِنهُ يَراهُ البَصيرُ'}\n",
      "Sampled: الكامل\n",
      "0 --------------------------------------------------\n",
      "Prompt: {'role': 'user', 'content': 'وَمَا أَشعَبِي الخِلالِ إِلا كَباسِط # لِيَشرَبَ راحاً بِالإِشارَةِ فِي الوَهدِ'}\n",
      "Sampled: المديد.\n",
      "1 --------------------------------------------------\n",
      "Prompt: {'role': 'user', 'content': 'نَعوذُ بِالإِقرارِ مِن قَرارِها # وَشَرَّ تَقرينِ ذَويها في الزُبُر'}\n",
      "Sampled: الوافر.\n",
      "2 --------------------------------------------------\n",
      "Prompt: {'role': 'user', 'content': 'فَما زادَهُ رَبُّهُ قُوَّةً # وَمِثلُ مُجاوِرِهِ لَم يُقِم'}\n",
      "Sampled: الوافر.\n",
      "3 --------------------------------------------------\n",
      "Prompt: {'role': 'user', 'content': 'وداعي الجود يروي عن رباحٍ # وداعي اليأس يروي عن أُسامهْ'}\n",
      "Sampled: المجتث\n",
      "4 --------------------------------------------------\n",
      "Prompt: {'role': 'user', 'content': 'وَتَغبِطُ كُلّاً عَلى ما حَواهُ # وَما لَكَ في العَيشِ مِن غابِطِ'}\n",
      "Sampled: الوافر.\n",
      "5 --------------------------------------------------\n",
      "Prompt: {'role': 'user', 'content': 'أَصبَحتُ في الكَونِ بِلا حَيِّزٍ # وَكُلُّ ما في الكَونِ في حَيِّزي'}\n",
      "Sampled: الوافر.\n",
      "6 --------------------------------------------------\n",
      "Prompt: {'role': 'user', 'content': 'وَأَخفافُ المُخَيَّسَةِ المَهارى # يُشَدُّ لَها السَرائِحُ وَالنُقولُ'}\n",
      "Sampled: الوافر.\n",
      "7 --------------------------------------------------\n",
      "Prompt: {'role': 'user', 'content': 'تاج الملوك ومكْفى كلِّ مضطهدٍ # فالضَّيف ذو ثروةٍ والجار معصوم'}\n",
      "Sampled: الكامل.\n",
      "8 --------------------------------------------------\n",
      "Prompt: {'role': 'user', 'content': 'وَأَلقَيتُ الفَصاحَةَ عَن لِساني # مُسَلَّمَةً إِلى العُربِ اللُبابِ'}\n",
      "Sampled: المدينيّة.\n",
      "9 --------------------------------------------------\n"
     ]
    }
   ],
   "source": [
    "for i, r in pd.json_normalize(events_df[events_df.type == \"sampling\"].data).iterrows():\n",
    "    print(f\"Prompt: {r.prompt[-1]}\")\n",
    "    print(f\"Sampled: {r.sampled}\")\n",
    "    print(f\"{i}\",\"--\" * 25)"
   ]
  },
  {
   "cell_type": "code",
   "execution_count": null,
   "metadata": {},
   "outputs": [],
   "source": []
  }
 ],
 "metadata": {
  "kernelspec": {
   "display_name": "Python 3",
   "language": "python",
   "name": "python3"
  },
  "language_info": {
   "codemirror_mode": {
    "name": "ipython",
    "version": 3
   },
   "file_extension": ".py",
   "mimetype": "text/x-python",
   "name": "python",
   "nbconvert_exporter": "python",
   "pygments_lexer": "ipython3",
   "version": "3.10.6"
  },
  "orig_nbformat": 4
 },
 "nbformat": 4,
 "nbformat_minor": 2
}
