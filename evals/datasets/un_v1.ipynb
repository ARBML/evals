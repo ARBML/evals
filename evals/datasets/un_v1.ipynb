{
 "cells": [
  {
   "cell_type": "code",
   "execution_count": 38,
   "metadata": {},
   "outputs": [
    {
     "name": "stdout",
     "output_type": "stream",
     "text": [
      "Downloading...\n",
      "From: https://drive.google.com/uc?id=13GI1F1hvwpMUGBSa0QC6ov4eE57GC_Zx\n",
      "To: /workspaces/evals/evals/datasets/UNv1.0.testsets.tar.gz\n",
      "100%|███████████████████████████████████████| 3.62M/3.62M [00:00<00:00, 202MB/s]\n"
     ]
    }
   ],
   "source": [
    "!gdown https://drive.google.com/uc?id=13GI1F1hvwpMUGBSa0QC6ov4eE57GC_Zx"
   ]
  },
  {
   "cell_type": "code",
   "execution_count": 40,
   "metadata": {},
   "outputs": [
    {
     "name": "stdout",
     "output_type": "stream",
     "text": [
      "testsets/\n",
      "testsets/UNv1.0.pdf\n",
      "testsets/testset/\n",
      "testsets/testset/UNv1.0.testset.fr\n",
      "testsets/testset/UNv1.0.testset.ids\n",
      "testsets/testset/UNv1.0.testset.ar\n",
      "testsets/testset/UNv1.0.testset.zh\n",
      "testsets/testset/UNv1.0.testset.ru\n",
      "testsets/testset/UNv1.0.testset.en\n",
      "testsets/testset/UNv1.0.testset.es\n",
      "testsets/devset/\n",
      "testsets/devset/UNv1.0.devset.fr\n",
      "testsets/devset/UNv1.0.devset.es\n",
      "testsets/devset/UNv1.0.devset.ru\n",
      "testsets/devset/UNv1.0.devset.ids\n",
      "testsets/devset/UNv1.0.devset.zh\n",
      "testsets/devset/UNv1.0.devset.en\n",
      "testsets/devset/UNv1.0.devset.ar\n",
      "testsets/README\n",
      "testsets/DISCLAIMER\n"
     ]
    }
   ],
   "source": [
    "!tar -xzvf UNv1.0.testsets.tar.gz"
   ]
  },
  {
   "cell_type": "code",
   "execution_count": 1,
   "metadata": {},
   "outputs": [],
   "source": [
    "src = \"ar\"\n",
    "trg = \"en\""
   ]
  },
  {
   "cell_type": "code",
   "execution_count": 8,
   "metadata": {},
   "outputs": [],
   "source": [
    "sys_msg = f\"Translate the following statement from {src} to {trg}\"\n",
    "def create_chat_prompt(sys_msg, input_text):\n",
    "    return [\n",
    "        {\"role\": \"system\", \"content\": sys_msg}, \n",
    "        {\"role\": \"user\", \"content\": input_text}\n",
    "    ]\n",
    "\n",
    "def create_chat_example(article, summary):\n",
    "    return [\n",
    "        {\"role\": \"system\", \"content\": article, \"name\": \"example_user\"},\n",
    "        {\"role\": \"system\", \"content\": summary, \"name\": \"example_assistant\"},\n",
    "    ]"
   ]
  },
  {
   "cell_type": "code",
   "execution_count": 4,
   "metadata": {},
   "outputs": [],
   "source": [
    "!mkdir ../registry/data/un_v1"
   ]
  },
  {
   "cell_type": "code",
   "execution_count": 5,
   "metadata": {},
   "outputs": [
    {
     "name": "stderr",
     "output_type": "stream",
     "text": [
      "/tmp/ipykernel_4980/2369823548.py:6: ParserWarning: Falling back to the 'python' engine because the 'c' engine does not support regex separators (separators > 1 char and different from '\\s+' are interpreted as regex); you can avoid this warning by specifying engine='python'.\n",
      "  df_test_tar = pd.read_csv(trg_path, delimiter=\"  \", header = None)\n",
      "/tmp/ipykernel_4980/2369823548.py:7: ParserWarning: Falling back to the 'python' engine because the 'c' engine does not support regex separators (separators > 1 char and different from '\\s+' are interpreted as regex); you can avoid this warning by specifying engine='python'.\n",
      "  df_test_src = pd.read_csv(src_path, delimiter=\"  \", header = None)\n",
      "/tmp/ipykernel_4980/2369823548.py:15: ParserWarning: Falling back to the 'python' engine because the 'c' engine does not support regex separators (separators > 1 char and different from '\\s+' are interpreted as regex); you can avoid this warning by specifying engine='python'.\n",
      "  df_dev_tar = pd.read_csv(trg_path, delimiter=\"  \", header = None)\n",
      "/tmp/ipykernel_4980/2369823548.py:16: ParserWarning: Falling back to the 'python' engine because the 'c' engine does not support regex separators (separators > 1 char and different from '\\s+' are interpreted as regex); you can avoid this warning by specifying engine='python'.\n",
      "  df_dev_src = pd.read_csv(src_path, delimiter=\"  \", header = None)\n"
     ]
    }
   ],
   "source": [
    "import pandas as pd\n",
    "\n",
    "src_path = \"testsets/testset/UNv1.0.testset.ar\"\n",
    "trg_path = \"testsets/testset/UNv1.0.testset.en\"\n",
    "\n",
    "df_test_tar = pd.read_csv(trg_path, delimiter=\"  \", header = None)\n",
    "df_test_src = pd.read_csv(src_path, delimiter=\"  \", header = None)\n",
    "\n",
    "df_test = pd.concat([df_test_tar, df_test_src], axis = 1)\n",
    "df_test.columns = ['target', \"source\"]\n",
    "\n",
    "src_path = \"testsets/devset/UNv1.0.devset.ar\"\n",
    "trg_path = \"testsets/devset/UNv1.0.devset.en\"\n",
    "\n",
    "df_dev_tar = pd.read_csv(trg_path, delimiter=\"  \", header = None)\n",
    "df_dev_src = pd.read_csv(src_path, delimiter=\"  \", header = None)\n",
    "\n",
    "df_dev = pd.concat([df_dev_tar, df_dev_src], axis = 1)\n",
    "df_dev.columns = ['target', \"source\"]"
   ]
  },
  {
   "cell_type": "code",
   "execution_count": 19,
   "metadata": {},
   "outputs": [],
   "source": [
    "df_test = df_test[:1]"
   ]
  },
  {
   "cell_type": "code",
   "execution_count": 21,
   "metadata": {},
   "outputs": [
    {
     "data": {
      "text/html": [
       "<div>\n",
       "<style scoped>\n",
       "    .dataframe tbody tr th:only-of-type {\n",
       "        vertical-align: middle;\n",
       "    }\n",
       "\n",
       "    .dataframe tbody tr th {\n",
       "        vertical-align: top;\n",
       "    }\n",
       "\n",
       "    .dataframe thead th {\n",
       "        text-align: right;\n",
       "    }\n",
       "</style>\n",
       "<table border=\"1\" class=\"dataframe\">\n",
       "  <thead>\n",
       "    <tr style=\"text-align: right;\">\n",
       "      <th></th>\n",
       "      <th>target</th>\n",
       "      <th>source</th>\n",
       "      <th>input</th>\n",
       "      <th>ideal</th>\n",
       "    </tr>\n",
       "  </thead>\n",
       "  <tbody>\n",
       "    <tr>\n",
       "      <th>0</th>\n",
       "      <td>7439th meeting, held on 11 May 2015.</td>\n",
       "      <td>الجلسة 7439 المعقودة في 11 أيار/مايو ٢٠١٥.</td>\n",
       "      <td>[{'role': 'system', 'content': 'Translate the ...</td>\n",
       "      <td>7439th meeting, held on 11 May 2015.</td>\n",
       "    </tr>\n",
       "  </tbody>\n",
       "</table>\n",
       "</div>"
      ],
      "text/plain": [
       "                                 target  \\\n",
       "0  7439th meeting, held on 11 May 2015.   \n",
       "\n",
       "                                       source  \\\n",
       "0  الجلسة 7439 المعقودة في 11 أيار/مايو ٢٠١٥.   \n",
       "\n",
       "                                               input  \\\n",
       "0  [{'role': 'system', 'content': 'Translate the ...   \n",
       "\n",
       "                                  ideal  \n",
       "0  7439th meeting, held on 11 May 2015.  "
      ]
     },
     "execution_count": 21,
     "metadata": {},
     "output_type": "execute_result"
    }
   ],
   "source": [
    "df_test"
   ]
  },
  {
   "cell_type": "code",
   "execution_count": 20,
   "metadata": {},
   "outputs": [
    {
     "name": "stderr",
     "output_type": "stream",
     "text": [
      "/tmp/ipykernel_4980/1063504306.py:4: SettingWithCopyWarning: \n",
      "A value is trying to be set on a copy of a slice from a DataFrame.\n",
      "Try using .loc[row_indexer,col_indexer] = value instead\n",
      "\n",
      "See the caveats in the documentation: https://pandas.pydata.org/pandas-docs/stable/user_guide/indexing.html#returning-a-view-versus-a-copy\n",
      "  df_test[\"input\"] = df_test['source'].apply(lambda x: create_chat_prompt(sys_msg, x))\n",
      "/tmp/ipykernel_4980/1063504306.py:5: SettingWithCopyWarning: \n",
      "A value is trying to be set on a copy of a slice from a DataFrame.\n",
      "Try using .loc[row_indexer,col_indexer] = value instead\n",
      "\n",
      "See the caveats in the documentation: https://pandas.pydata.org/pandas-docs/stable/user_guide/indexing.html#returning-a-view-versus-a-copy\n",
      "  df_test[\"ideal\"] = df_test['target']\n"
     ]
    }
   ],
   "source": [
    "df_dev[\"sample\"] = df_dev.apply(lambda x: create_chat_example(x['source'], x['target']), axis=1)\n",
    "df_dev[[\"sample\"]].to_json(f'../registry/data/un_v1/few_shot_{src}_{trg}.jsonl', lines=True, orient=\"records\")\n",
    "\n",
    "df_test[\"input\"] = df_test['source'].apply(lambda x: create_chat_prompt(sys_msg, x))\n",
    "df_test[\"ideal\"] = df_test['target']\n",
    "df_test[[\"input\", \"ideal\"]].to_json(f'../registry/data/un_v1/samples_{src}_{trg}.jsonl', lines=True, orient=\"records\")"
   ]
  },
  {
   "cell_type": "code",
   "execution_count": 22,
   "metadata": {},
   "outputs": [],
   "source": [
    "import os\n",
    "os.environ[\"OPENAI_API_KEY\"] = \"<openai-key>\""
   ]
  },
  {
   "cell_type": "code",
   "execution_count": 23,
   "metadata": {},
   "outputs": [
    {
     "name": "stdout",
     "output_type": "stream",
     "text": [
      "[2023-04-18 13:56:03,723] [registry.py:156] Loading registry from /workspaces/evals/evals/registry/evals\n",
      "[2023-04-18 13:56:03,815] [registry.py:156] Loading registry from /home/codespace/.evals/evals\n",
      "[2023-04-18 13:56:04,287] [oaieval.py:213] \u001b[1;35mRun started: 230418135604NGTLX5AX\u001b[0m\n",
      "[2023-04-18 13:56:04,305] [data.py:75] Fetching un_v1/samples_ar_en.jsonl\n",
      "[2023-04-18 13:56:04,306] [eval.py:32] Evaluating 1 samples\n",
      "[2023-04-18 13:56:04,310] [eval.py:152] Running in threaded mode with 10 threads!\n",
      "100%|█████████████████████████████████████████████| 1/1 [00:01<00:00,  1.51s/it]\n",
      "[2023-04-18 13:56:05,824] [record.py:320] Final report: {'accuracy': 0.0, 'sacrebleu_score': 14.923729480049115}. Logged to /tmp/evallogs/230418135604NGTLX5AX_gpt-3.5-turbo_translation.jsonl\n",
      "[2023-04-18 13:56:05,824] [oaieval.py:231] Final report:\n",
      "[2023-04-18 13:56:05,824] [oaieval.py:233] accuracy: 0.0\n",
      "[2023-04-18 13:56:05,824] [oaieval.py:233] sacrebleu_score: 14.923729480049115\n",
      "[2023-04-18 13:56:05,827] [record.py:309] Logged 4 rows of events to /tmp/evallogs/230418135604NGTLX5AX_gpt-3.5-turbo_translation.jsonl: insert_time=0.780ms\n"
     ]
    }
   ],
   "source": [
    "!oaieval gpt-3.5-turbo translation --max_samples 1"
   ]
  },
  {
   "cell_type": "code",
   "execution_count": 24,
   "metadata": {},
   "outputs": [
    {
     "name": "stdout",
     "output_type": "stream",
     "text": [
      "2304181347523FVPCZUS_gpt-3.5-turbo_translation.jsonl\n",
      "230418135604NGTLX5AX_gpt-3.5-turbo_translation.jsonl\n"
     ]
    }
   ],
   "source": [
    "!ls /tmp/evallogs"
   ]
  },
  {
   "cell_type": "code",
   "execution_count": 25,
   "metadata": {},
   "outputs": [],
   "source": [
    "import pandas as pd\n",
    "events = f\"/tmp/evallogs/230418135604NGTLX5AX_gpt-3.5-turbo_translation.jsonl\"\n",
    "\n",
    "with open(events, \"r\") as f:\n",
    "    events_df = pd.read_json(f, lines=True)"
   ]
  },
  {
   "cell_type": "code",
   "execution_count": 31,
   "metadata": {},
   "outputs": [
    {
     "name": "stdout",
     "output_type": "stream",
     "text": [
      "Prompt: Translate the following statement from ar to en الجلسة 7439 المعقودة في 11 أيار/مايو ٢٠١٥.\n",
      "Predict: Session 7439 held on May 11th, 2015.\n",
      "Truth: 7439th meeting, held on 11 May 2015.\n",
      "--------------------------------------------------\n"
     ]
    }
   ],
   "source": [
    "for i, r in pd.json_normalize(events_df[events_df.type == \"sampling\"].data).iterrows():\n",
    "    print(f\"Prompt: {r.prompt[0]['content']} {r.prompt[-1]['content']}\")\n",
    "    print(f\"Predict: {r.sampled}\")\n",
    "    print(f\"Truth: {df_test['target'][0]}\")\n",
    "    print(f\"--\" * 25)"
   ]
  },
  {
   "cell_type": "code",
   "execution_count": null,
   "metadata": {},
   "outputs": [],
   "source": []
  }
 ],
 "metadata": {
  "kernelspec": {
   "display_name": "Python 3",
   "language": "python",
   "name": "python3"
  },
  "language_info": {
   "codemirror_mode": {
    "name": "ipython",
    "version": 3
   },
   "file_extension": ".py",
   "mimetype": "text/x-python",
   "name": "python",
   "nbconvert_exporter": "python",
   "pygments_lexer": "ipython3",
   "version": "3.10.4"
  },
  "orig_nbformat": 4
 },
 "nbformat": 4,
 "nbformat_minor": 2
}
